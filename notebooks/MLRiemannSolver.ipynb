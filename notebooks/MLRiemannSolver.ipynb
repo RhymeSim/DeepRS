{
 "cells": [
  {
   "cell_type": "markdown",
   "metadata": {},
   "source": [
    "## TOC:\n",
    "* [Abstract](#abs)\n",
    "* [Introduction](#intro)\n",
    "* [Exact Riemann Solver](#ers)\n",
    "    * [Riemann Problem](#ers-rp)\n",
    "    * [Method](#ers-th)\n",
    "    * [Tests](#ers-te)\n",
    "    * [Data Visualisation](#ers-dv)\n",
    "* [Machine Learning Powered Riemann Solver](#mlrs)\n",
    "    * [Range of Interest](#mlrs-ri)\n",
    "    * [Models](#mlrs-mo)\n",
    "    * [Tests](#mlrs-te)\n",
    "* [Conclusion](#con)\n",
    "* [References](#refer)"
   ]
  },
  {
   "cell_type": "code",
   "execution_count": null,
   "metadata": {},
   "outputs": [],
   "source": [
    "# global packages and variables\n",
    "from ml_riemann_solver import MLRiemannSolver as MLRS\n",
    "\n",
    "import plotly.express as px\n",
    "\n",
    "import os\n",
    "from pathlib import Path\n",
    "import pickle\n",
    "\n",
    "# Backup directory\n",
    "Path(os.environ['HOME'] + '/.mlrs').mkdir(parents=True, exist_ok=True)"
   ]
  },
  {
   "cell_type": "markdown",
   "metadata": {},
   "source": [
    "## Abstract <a class=\"anchor\" id=\"abs\"></a>"
   ]
  },
  {
   "cell_type": "markdown",
   "metadata": {},
   "source": [
    "## Introduction <a class=\"anchor\" id=\"intro\"></a>"
   ]
  },
  {
   "cell_type": "markdown",
   "metadata": {},
   "source": [
    "## Exact Riemann Solver <a class=\"anchor\" id=\"ers\"></a>"
   ]
  },
  {
   "cell_type": "markdown",
   "metadata": {},
   "source": [
    "### Riemann Problem <a class=\"anchor\" id=\"ers-rp\"></a>"
   ]
  },
  {
   "cell_type": "markdown",
   "metadata": {},
   "source": [
    "### Theory <a class=\"anchor\" id=\"ers-th\"></a>"
   ]
  },
  {
   "cell_type": "markdown",
   "metadata": {},
   "source": [
    "### Tests <a class=\"anchor\" id=\"ers-te\"></a>"
   ]
  },
  {
   "cell_type": "markdown",
   "metadata": {},
   "source": [
    "### Data Visualisation <a class=\"anchor\" id=\"ers-dv\"></a>"
   ]
  },
  {
   "cell_type": "markdown",
   "metadata": {},
   "source": [
    "## Machine Learning Powered Riemann Solver <a class=\"anchor\" id=\"mlrs\"></a>"
   ]
  },
  {
   "cell_type": "markdown",
   "metadata": {},
   "source": [
    "### Range of Interest <a class=\"anchor\" id=\"mlrs-ri\"></a>"
   ]
  },
  {
   "cell_type": "markdown",
   "metadata": {},
   "source": [
    "### Models <a class=\"anchor\" id=\"mlrs-mo\"></a>"
   ]
  },
  {
   "cell_type": "markdown",
   "metadata": {},
   "source": [
    "### Tests <a class=\"anchor\" id=\"mlrs-te\"></a>"
   ]
  },
  {
   "cell_type": "markdown",
   "metadata": {},
   "source": [
    "## Conclusion <a class=\"anchor\" id=\"con\"></a>"
   ]
  },
  {
   "cell_type": "markdown",
   "metadata": {},
   "source": [
    "## References <a class=\"anchor\" id=\"refer\"></a>"
   ]
  }
 ],
 "metadata": {
  "kernelspec": {
   "display_name": "Python 3",
   "language": "python",
   "name": "python3"
  },
  "language_info": {
   "codemirror_mode": {
    "name": "ipython",
    "version": 3
   },
   "file_extension": ".py",
   "mimetype": "text/x-python",
   "name": "python",
   "nbconvert_exporter": "python",
   "pygments_lexer": "ipython3",
   "version": "3.7.7"
  }
 },
 "nbformat": 4,
 "nbformat_minor": 4
}
